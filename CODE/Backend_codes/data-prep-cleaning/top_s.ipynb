{
 "cells": [
  {
   "cell_type": "code",
   "execution_count": 58,
   "id": "297a1f14-ba58-493f-b981-fbc924b073d3",
   "metadata": {},
   "outputs": [],
   "source": [
    "import pandas\n",
    "import sklearn\n",
    "import numpy as np\n",
    "import pandas as pd\n",
    "import calendar\n"
   ]
  },
  {
   "cell_type": "code",
   "execution_count": 59,
   "id": "d4f5ad0c-1c14-446b-b2b7-13fb7db70df4",
   "metadata": {},
   "outputs": [],
   "source": [
    "f = '/data/TransactDataClean_3110.csv'"
   ]
  },
  {
   "cell_type": "code",
   "execution_count": 60,
   "id": "9c40f1f9-041c-4752-a065-b152fd435f8f",
   "metadata": {},
   "outputs": [],
   "source": [
    "clean_data=pd.read_csv(f)"
   ]
  },
  {
   "cell_type": "code",
   "execution_count": 61,
   "id": "4f19326b-5fc4-46f5-8f5d-89e9959c5450",
   "metadata": {},
   "outputs": [],
   "source": [
    "# def test(val):\n",
    "#     try:\n",
    "#         a = int(val)\n",
    "        \n",
    "#     except ValueError as e:\n",
    "#         print(\"Cant cast\",val)\n",
    "# clean_data['Customer ID'].apply(lambda x: test())\n",
    "clean_data = clean_data[~clean_data['Customer ID'].isnull()]\n",
    "# temp_n.info()"
   ]
  },
  {
   "cell_type": "code",
   "execution_count": 62,
   "id": "801115b6-4456-46b0-b576-acc338d2af09",
   "metadata": {},
   "outputs": [],
   "source": [
    "clean_data['Year'] = clean_data['InvoiceDate'].astype('datetime64[ns]').dt.year\n",
    "clean_data['Month'] = clean_data['InvoiceDate'].astype('datetime64[ns]').dt.month\n",
    "clean_data['Month'] = clean_data['Month'].apply(lambda x: calendar.month_name[x])\n",
    "clean_data['Customer ID'] =  clean_data['Customer ID'].astype(int)\n",
    "clean_data['Customer ID'] =  clean_data['Customer ID'].astype(str)\n",
    "clean_data = clean_data[clean_data['Quantity'] > 0]\n",
    "clean_data['Cost'] =  clean_data['Quantity'] * clean_data['Price']"
   ]
  },
  {
   "cell_type": "code",
   "execution_count": 63,
   "id": "0175c0b8-bc2a-4226-9bca-208e55352a7c",
   "metadata": {},
   "outputs": [
    {
     "name": "stdout",
     "output_type": "stream",
     "text": [
      "<class 'pandas.core.frame.DataFrame'>\n",
      "Int64Index: 795170 entries, 0 to 1045326\n",
      "Data columns (total 11 columns):\n",
      " #   Column       Non-Null Count   Dtype  \n",
      "---  ------       --------------   -----  \n",
      " 0   Invoice      795170 non-null  object \n",
      " 1   StockCode    795170 non-null  object \n",
      " 2   Quantity     795170 non-null  int64  \n",
      " 3   InvoiceDate  795170 non-null  object \n",
      " 4   Price        795170 non-null  float64\n",
      " 5   Customer ID  795170 non-null  object \n",
      " 6   Country      795170 non-null  object \n",
      " 7   Description  795170 non-null  object \n",
      " 8   Year         795170 non-null  int64  \n",
      " 9   Month        795170 non-null  object \n",
      " 10  Cost         795170 non-null  float64\n",
      "dtypes: float64(2), int64(2), object(7)\n",
      "memory usage: 72.8+ MB\n"
     ]
    }
   ],
   "source": [
    "clean_data.info()"
   ]
  },
  {
   "cell_type": "code",
   "execution_count": 22,
   "id": "7acf4e03-5f30-4274-aa07-a47ce55a3b0c",
   "metadata": {},
   "outputs": [
    {
     "data": {
      "text/html": [
       "<div>\n",
       "<style scoped>\n",
       "    .dataframe tbody tr th:only-of-type {\n",
       "        vertical-align: middle;\n",
       "    }\n",
       "\n",
       "    .dataframe tbody tr th {\n",
       "        vertical-align: top;\n",
       "    }\n",
       "\n",
       "    .dataframe thead th {\n",
       "        text-align: right;\n",
       "    }\n",
       "</style>\n",
       "<table border=\"1\" class=\"dataframe\">\n",
       "  <thead>\n",
       "    <tr style=\"text-align: right;\">\n",
       "      <th></th>\n",
       "      <th>Invoice</th>\n",
       "      <th>StockCode</th>\n",
       "      <th>Quantity</th>\n",
       "      <th>InvoiceDate</th>\n",
       "      <th>Price</th>\n",
       "      <th>Customer ID</th>\n",
       "      <th>Country</th>\n",
       "      <th>Description</th>\n",
       "      <th>Year</th>\n",
       "    </tr>\n",
       "  </thead>\n",
       "  <tbody>\n",
       "    <tr>\n",
       "      <th>0</th>\n",
       "      <td>489434</td>\n",
       "      <td>85048</td>\n",
       "      <td>12</td>\n",
       "      <td>2009-12-01 07:45:00</td>\n",
       "      <td>6.95</td>\n",
       "      <td>13085.0</td>\n",
       "      <td>United Kingdom</td>\n",
       "      <td>15CM CHRISTMAS GLASS BALL 20 LIGHTS</td>\n",
       "      <td>2009</td>\n",
       "    </tr>\n",
       "    <tr>\n",
       "      <th>390</th>\n",
       "      <td>C489518</td>\n",
       "      <td>85048</td>\n",
       "      <td>-1</td>\n",
       "      <td>2009-12-01 11:35:00</td>\n",
       "      <td>7.95</td>\n",
       "      <td>15461.0</td>\n",
       "      <td>United Kingdom</td>\n",
       "      <td>15CM CHRISTMAS GLASS BALL 20 LIGHTS</td>\n",
       "      <td>2009</td>\n",
       "    </tr>\n",
       "    <tr>\n",
       "      <th>611</th>\n",
       "      <td>C489528</td>\n",
       "      <td>85048</td>\n",
       "      <td>-1</td>\n",
       "      <td>2009-12-01 11:50:00</td>\n",
       "      <td>7.95</td>\n",
       "      <td>16714.0</td>\n",
       "      <td>United Kingdom</td>\n",
       "      <td>15CM CHRISTMAS GLASS BALL 20 LIGHTS</td>\n",
       "      <td>2009</td>\n",
       "    </tr>\n",
       "    <tr>\n",
       "      <th>1115</th>\n",
       "      <td>C489551</td>\n",
       "      <td>85048</td>\n",
       "      <td>-1</td>\n",
       "      <td>2009-12-01 12:35:00</td>\n",
       "      <td>6.95</td>\n",
       "      <td>17641.0</td>\n",
       "      <td>United Kingdom</td>\n",
       "      <td>15CM CHRISTMAS GLASS BALL 20 LIGHTS</td>\n",
       "      <td>2009</td>\n",
       "    </tr>\n",
       "    <tr>\n",
       "      <th>1235</th>\n",
       "      <td>489559</td>\n",
       "      <td>85048</td>\n",
       "      <td>12</td>\n",
       "      <td>2009-12-01 12:55:00</td>\n",
       "      <td>6.95</td>\n",
       "      <td>17056.0</td>\n",
       "      <td>United Kingdom</td>\n",
       "      <td>15CM CHRISTMAS GLASS BALL 20 LIGHTS</td>\n",
       "      <td>2009</td>\n",
       "    </tr>\n",
       "    <tr>\n",
       "      <th>...</th>\n",
       "      <td>...</td>\n",
       "      <td>...</td>\n",
       "      <td>...</td>\n",
       "      <td>...</td>\n",
       "      <td>...</td>\n",
       "      <td>...</td>\n",
       "      <td>...</td>\n",
       "      <td>...</td>\n",
       "      <td>...</td>\n",
       "    </tr>\n",
       "    <tr>\n",
       "      <th>1040273</th>\n",
       "      <td>581219</td>\n",
       "      <td>85048</td>\n",
       "      <td>1</td>\n",
       "      <td>2011-12-08 09:28:00</td>\n",
       "      <td>16.63</td>\n",
       "      <td>NaN</td>\n",
       "      <td>United Kingdom</td>\n",
       "      <td>15CM CHRISTMAS GLASS BALL 20 LIGHTS</td>\n",
       "      <td>2011</td>\n",
       "    </tr>\n",
       "    <tr>\n",
       "      <th>1040713</th>\n",
       "      <td>581238</td>\n",
       "      <td>85048</td>\n",
       "      <td>4</td>\n",
       "      <td>2011-12-08 10:53:00</td>\n",
       "      <td>16.63</td>\n",
       "      <td>NaN</td>\n",
       "      <td>United Kingdom</td>\n",
       "      <td>15CM CHRISTMAS GLASS BALL 20 LIGHTS</td>\n",
       "      <td>2011</td>\n",
       "    </tr>\n",
       "    <tr>\n",
       "      <th>1043523</th>\n",
       "      <td>C581463</td>\n",
       "      <td>85048</td>\n",
       "      <td>-2</td>\n",
       "      <td>2011-12-08 18:56:00</td>\n",
       "      <td>7.95</td>\n",
       "      <td>17526.0</td>\n",
       "      <td>United Kingdom</td>\n",
       "      <td>15CM CHRISTMAS GLASS BALL 20 LIGHTS</td>\n",
       "      <td>2011</td>\n",
       "    </tr>\n",
       "    <tr>\n",
       "      <th>1044268</th>\n",
       "      <td>581492</td>\n",
       "      <td>85048</td>\n",
       "      <td>2</td>\n",
       "      <td>2011-12-09 10:03:00</td>\n",
       "      <td>16.63</td>\n",
       "      <td>NaN</td>\n",
       "      <td>United Kingdom</td>\n",
       "      <td>15CM CHRISTMAS GLASS BALL 20 LIGHTS</td>\n",
       "      <td>2011</td>\n",
       "    </tr>\n",
       "    <tr>\n",
       "      <th>1044959</th>\n",
       "      <td>581498</td>\n",
       "      <td>85048</td>\n",
       "      <td>1</td>\n",
       "      <td>2011-12-09 10:26:00</td>\n",
       "      <td>16.63</td>\n",
       "      <td>NaN</td>\n",
       "      <td>United Kingdom</td>\n",
       "      <td>15CM CHRISTMAS GLASS BALL 20 LIGHTS</td>\n",
       "      <td>2011</td>\n",
       "    </tr>\n",
       "  </tbody>\n",
       "</table>\n",
       "<p>604 rows × 9 columns</p>\n",
       "</div>"
      ],
      "text/plain": [
       "         Invoice StockCode  Quantity          InvoiceDate  Price  Customer ID  \\\n",
       "0         489434     85048        12  2009-12-01 07:45:00   6.95      13085.0   \n",
       "390      C489518     85048        -1  2009-12-01 11:35:00   7.95      15461.0   \n",
       "611      C489528     85048        -1  2009-12-01 11:50:00   7.95      16714.0   \n",
       "1115     C489551     85048        -1  2009-12-01 12:35:00   6.95      17641.0   \n",
       "1235      489559     85048        12  2009-12-01 12:55:00   6.95      17056.0   \n",
       "...          ...       ...       ...                  ...    ...          ...   \n",
       "1040273   581219     85048         1  2011-12-08 09:28:00  16.63          NaN   \n",
       "1040713   581238     85048         4  2011-12-08 10:53:00  16.63          NaN   \n",
       "1043523  C581463     85048        -2  2011-12-08 18:56:00   7.95      17526.0   \n",
       "1044268   581492     85048         2  2011-12-09 10:03:00  16.63          NaN   \n",
       "1044959   581498     85048         1  2011-12-09 10:26:00  16.63          NaN   \n",
       "\n",
       "                Country                          Description  Year  \n",
       "0        United Kingdom  15CM CHRISTMAS GLASS BALL 20 LIGHTS  2009  \n",
       "390      United Kingdom  15CM CHRISTMAS GLASS BALL 20 LIGHTS  2009  \n",
       "611      United Kingdom  15CM CHRISTMAS GLASS BALL 20 LIGHTS  2009  \n",
       "1115     United Kingdom  15CM CHRISTMAS GLASS BALL 20 LIGHTS  2009  \n",
       "1235     United Kingdom  15CM CHRISTMAS GLASS BALL 20 LIGHTS  2009  \n",
       "...                 ...                                  ...   ...  \n",
       "1040273  United Kingdom  15CM CHRISTMAS GLASS BALL 20 LIGHTS  2011  \n",
       "1040713  United Kingdom  15CM CHRISTMAS GLASS BALL 20 LIGHTS  2011  \n",
       "1043523  United Kingdom  15CM CHRISTMAS GLASS BALL 20 LIGHTS  2011  \n",
       "1044268  United Kingdom  15CM CHRISTMAS GLASS BALL 20 LIGHTS  2011  \n",
       "1044959  United Kingdom  15CM CHRISTMAS GLASS BALL 20 LIGHTS  2011  \n",
       "\n",
       "[604 rows x 9 columns]"
      ]
     },
     "execution_count": 22,
     "metadata": {},
     "output_type": "execute_result"
    }
   ],
   "source": [
    "clean_data[clean_data[\"StockCode\"] == \"85048\"]"
   ]
  },
  {
   "cell_type": "code",
   "execution_count": 65,
   "id": "fe8cbeb4-5a25-4cf7-b080-eb4ef8c70ef4",
   "metadata": {},
   "outputs": [],
   "source": [
    "temp=clean_data.groupby([\"Country\",\"Year\",\"Customer ID\"], as_index=False)[\"Cost\"].agg([\"sum\"]).rename(columns = {'sum' :'Sales' })"
   ]
  },
  {
   "cell_type": "code",
   "execution_count": 32,
   "id": "bef0e1e9-95e0-4c09-8cb0-73cca1293288",
   "metadata": {},
   "outputs": [],
   "source": [
    "temp2=clean_data.groupby([\"Country\",\"Year\",\"Description\"], as_index=False)[\"Cost\"].agg([\"sum\"]).rename(columns = {'sum' :'Sales' })"
   ]
  },
  {
   "cell_type": "code",
   "execution_count": 66,
   "id": "0bbfffdd-997a-4a86-96b1-c2e235fc4c5f",
   "metadata": {},
   "outputs": [],
   "source": [
    "temp.to_csv('/data/customer.csv')"
   ]
  },
  {
   "cell_type": "code",
   "execution_count": 33,
   "id": "8973419a-afde-4319-b464-5d9fc7771739",
   "metadata": {},
   "outputs": [],
   "source": [
    "temp2.to_csv('/data/product.csv')"
   ]
  },
  {
   "cell_type": "code",
   "execution_count": 35,
   "id": "2425b76f-8333-4a05-b8f4-0c3e67a20f99",
   "metadata": {},
   "outputs": [
    {
     "name": "stdout",
     "output_type": "stream",
     "text": [
      "Country,Year,Description,Sales\n",
      "Australia,2009,ANTIQUE SILVER TEA GLASS ETCHED,15.0\n",
      "Australia,2009,CHARLOTTE BAG SUKI DESIGN,17.0\n",
      "Australia,2009,CREAM FELT EASTER EGG BASKET,9.899999999999999\n",
      "Australia,2009,HANGING HEART ZINC T-LIGHT HOLDER,20.4\n",
      "Australia,2009,LUNCH BAG  BLACK SKULL.,16.5\n",
      "Australia,2009,LUNCH BAG CARS BLUE,16.5\n",
      "Australia,2009,PAPER BUNTING RETROSPOT,35.400000000000006\n",
      "Australia,2009,PAPER BUNTING WHITE LACE,35.400000000000006\n",
      "Australia,2009,PAPER CHAIN KIT RETROSPOT,35.400000000000006\n"
     ]
    }
   ],
   "source": [
    "!head -10 /data/product.csv"
   ]
  },
  {
   "cell_type": "code",
   "execution_count": 24,
   "id": "f69bdbd5-0b6a-46bf-b5db-4fbc43c8dad7",
   "metadata": {},
   "outputs": [],
   "source": [
    "temp_barchart=clean_data.groupby([\"Country\",\"Year\",\"Month\"], as_index=False)[\"Cost\"].agg([\"sum\"]).rename(columns = {'sum' :'Sales' })"
   ]
  },
  {
   "cell_type": "code",
   "execution_count": 25,
   "id": "a789795e-52d9-43fc-b7af-8d24f75daba7",
   "metadata": {},
   "outputs": [],
   "source": [
    "temp_barchart.to_csv('/data/barchart.csv')"
   ]
  },
  {
   "cell_type": "code",
   "execution_count": 67,
   "id": "de49ffe3-5348-4f62-b1b9-929eecb18eb5",
   "metadata": {},
   "outputs": [
    {
     "name": "stdout",
     "output_type": "stream",
     "text": [
      "Country,Year,Customer ID,Sales\n",
      "Australia,2009,12422,75.0\n",
      "Australia,2009,16321,196.10000000000002\n",
      "Australia,2010,12386,517.8\n",
      "Australia,2010,12387,143.94\n",
      "Australia,2010,12388,1104.1000000000001\n",
      "Australia,2010,12389,1433.33\n",
      "Australia,2010,12392,234.75000000000003\n",
      "Australia,2010,12393,816.85\n",
      "Australia,2010,12400,205.25\n"
     ]
    }
   ],
   "source": [
    "!head -10 /data/customer.csv"
   ]
  },
  {
   "cell_type": "code",
   "execution_count": 68,
   "id": "a6f00488-fcd5-4a0b-90ea-3d6f228666f3",
   "metadata": {},
   "outputs": [
    {
     "name": "stdout",
     "output_type": "stream",
     "text": [
      "Country,Year,Month,Sales\n",
      "Australia,2009,December,271.1\n",
      "Australia,2010,April,630.95\n",
      "Australia,2010,August,176.0\n",
      "Australia,2010,December,1650.0\n",
      "Australia,2010,February,1029.66\n",
      "Australia,2010,July,631.12\n",
      "Australia,2010,June,3214.78\n",
      "Australia,2010,March,429.39\n",
      "Australia,2010,May,1296.35\n",
      "Australia,2010,November,18235.52\n",
      "Australia,2010,October,2962.8\n",
      "Australia,2010,September,785.83\n",
      "Australia,2011,April,421.6\n",
      "Australia,2011,August,22489.2\n",
      "Australia,2011,February,14679.07\n",
      "Australia,2011,January,8967.31\n",
      "Australia,2011,July,4931.68\n",
      "Australia,2011,June,25187.77\n",
      "Australia,2011,March,17207.64\n",
      "Australia,2011,May,13405.91\n",
      "Australia,2011,November,7010.22\n",
      "Australia,2011,October,17150.53\n",
      "Australia,2011,September,5090.38\n",
      "Austria,2009,December,1918.3400000000001\n",
      "Austria,2010,April,1388.54\n",
      "Austria,2010,August,1043.15\n",
      "Austria,2010,December,157.2\n",
      "Austria,2010,February,878.86\n",
      "Austria,2010,June,268.1\n",
      "Austria,2010,March,685.13\n",
      "Austria,2010,May,502.03999999999996\n",
      "Austria,2010,November,2477.6\n",
      "Austria,2010,October,956.7\n",
      "Austria,2010,September,1400.17\n",
      "Austria,2011,April,505.58000000000004\n",
      "Austria,2011,August,1436.08\n",
      "Austria,2011,December,523.2\n",
      "Austria,2011,February,438.36\n",
      "Austria,2011,July,1111.95\n"
     ]
    }
   ],
   "source": [
    "!head -40 /data/barchart.csv"
   ]
  },
  {
   "cell_type": "code",
   "execution_count": null,
   "id": "af949c7b-90d3-4c81-a8aa-fb4c3525dd73",
   "metadata": {},
   "outputs": [],
   "source": []
  }
 ],
 "metadata": {
  "kernelspec": {
   "display_name": "test-env-ds",
   "language": "python",
   "name": "25897"
  },
  "language_info": {
   "codemirror_mode": {
    "name": "ipython",
    "version": 3
   },
   "file_extension": ".py",
   "mimetype": "text/x-python",
   "name": "python",
   "nbconvert_exporter": "python",
   "pygments_lexer": "ipython3",
   "version": "3.8.0"
  }
 },
 "nbformat": 4,
 "nbformat_minor": 5
}
