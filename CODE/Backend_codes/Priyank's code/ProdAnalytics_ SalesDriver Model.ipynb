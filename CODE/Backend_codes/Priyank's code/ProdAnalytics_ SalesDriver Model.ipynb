{
 "cells": [
  {
   "cell_type": "code",
   "execution_count": null,
   "metadata": {},
   "outputs": [],
   "source": [
    "import numpy as np\n",
    "import pandas as pd\n",
    "from sklearn.linear_model import LinearRegression\n",
    "from sklearn.model_selection import cross_val_score\n",
    "from sklearn.model_selection import RepeatedKFold\n",
    "from sklearn.linear_model import ElasticNet\n",
    "from sklearn.linear_model import BayesianRidge"
   ]
  },
  {
   "cell_type": "code",
   "execution_count": null,
   "metadata": {},
   "outputs": [],
   "source": [
    "df = pd.read_csv(\"P:\\Priyank\\Georgia Tech MS\\Courses\\Fall 2021\\DVA CSE6242\\Project\\TransactDataClean_3110.csv\")\n",
    "df.head()"
   ]
  },
  {
   "cell_type": "code",
   "execution_count": null,
   "metadata": {},
   "outputs": [],
   "source": [
    "df['InvoiceDate'] = pd.to_datetime(df['InvoiceDate'])\n",
    "df['Date'] = df['InvoiceDate'].dt.normalize()\n",
    "df.head()"
   ]
  },
  {
   "cell_type": "code",
   "execution_count": null,
   "metadata": {},
   "outputs": [],
   "source": [
    "df.isnull().sum()"
   ]
  },
  {
   "cell_type": "code",
   "execution_count": null,
   "metadata": {},
   "outputs": [],
   "source": [
    "df['Sales'] = df['Quantity'] * df['Price']"
   ]
  },
  {
   "cell_type": "code",
   "execution_count": null,
   "metadata": {},
   "outputs": [],
   "source": [
    "df_prod = df.groupby(['StockCode','Date'],as_index=False).agg({'Quantity':'sum',\n",
    "                                              'Sales':'sum','Customer ID':'count'})\n",
    "\n",
    "df_prod.head()"
   ]
  },
  {
   "cell_type": "code",
   "execution_count": null,
   "metadata": {},
   "outputs": [],
   "source": [
    "df_topProds = df_prod.groupby(['StockCode'],as_index=False)['Sales'].sum()\n",
    "totalsales = df_topProds['Sales'].sum()\n",
    "df_topProds.head()"
   ]
  },
  {
   "cell_type": "code",
   "execution_count": null,
   "metadata": {},
   "outputs": [],
   "source": [
    "df_topProds['SalesContri'] = df_topProds['Sales']/totalsales\n",
    "df_topProds = df_topProds.sort_values(['SalesContri'],ascending=False)\n",
    "df_topProds['cum_sum'] = df_topProds['SalesContri'].cumsum()\n",
    "df_topProds.head()"
   ]
  },
  {
   "cell_type": "code",
   "execution_count": null,
   "metadata": {},
   "outputs": [],
   "source": [
    "df_topProds = df_topProds.loc[df_topProds.cum_sum<0.8]\n",
    "df_topProds.shape\n"
   ]
  },
  {
   "cell_type": "code",
   "execution_count": null,
   "metadata": {},
   "outputs": [],
   "source": [
    "df_salesprod = df_prod.loc[df_prod.StockCode.isin(df_topProds.StockCode),]\n",
    "df_salesprod['price'] = df_salesprod['Sales']/df_salesprod['Quantity']  \n",
    "df_salesprod['price'] = np.round(df_salesprod['price'],2)\n",
    "df_salesprod.head()"
   ]
  },
  {
   "cell_type": "code",
   "execution_count": null,
   "metadata": {},
   "outputs": [],
   "source": [
    "df_salesprod.replace([np.inf, -np.inf], np.nan, inplace=True)\n",
    "df_salesprod = df_salesprod[df_salesprod['price'].notna()]\n",
    "\n",
    "df_drivermodel = df_salesprod.groupby(['StockCode'],as_index=False)['Sales'].sum()\n",
    "df_drivermodel['PriceBeta_LR'] = None\n",
    "df_drivermodel['Accuracy_LR'] = None\n",
    "\n",
    "df_drivermodel['PriceBeta_EN'] = None\n",
    "df_drivermodel['Accuracy_EN'] = None\n",
    "\n",
    "df_drivermodel['PriceBeta_BR'] = None\n",
    "df_drivermodel['Accuracy_BR'] = None\n",
    "\n",
    "\n",
    "df_drivermodel.head()"
   ]
  },
  {
   "cell_type": "code",
   "execution_count": null,
   "metadata": {},
   "outputs": [],
   "source": [
    "df_drivermodel.head()"
   ]
  },
  {
   "cell_type": "code",
   "execution_count": null,
   "metadata": {},
   "outputs": [],
   "source": [
    "for i in df_salesprod.StockCode.unique():\n",
    "    \n",
    "    X_train = df_salesprod.loc[(df_salesprod.StockCode==i),['price','Customer ID']]\n",
    "    X_train = X_train.reset_index()\n",
    "    X_train.drop(['index'],axis=1,inplace=True)\n",
    "    \n",
    "    y_train = df_salesprod.loc[(df_salesprod.StockCode==i),['Quantity']]\n",
    "    y_train = y_train.reset_index()\n",
    "    y_train.drop(['index'],axis=1,inplace=True)\n",
    "    regr = LinearRegression(fit_intercept=True)\n",
    "\n",
    "    regr.fit(X_train, y_train)\n",
    "    df_drivermodel.loc[df_drivermodel.StockCode==i,'Accuracy_LR'] = regr.score(X_train, y_train)\n",
    "    df_drivermodel.loc[df_drivermodel.StockCode==i,'PriceBeta_LR'] = regr.coef_[0][0]\n",
    "    \n",
    "    Enet = ElasticNet(alpha=1.0, l1_ratio=0.2)\n",
    "    Enet.fit(X_train, y_train)\n",
    "    #cv = RepeatedKFold(n_splits=10, n_repeats=3, random_state=1)\n",
    "    #scores = cross_val_score(model, X_train, y_train, scoring='neg_mean_absolute_error', cv=cv, n_jobs=-1)\n",
    "\n",
    "    df_drivermodel.loc[df_drivermodel.StockCode==i,'Accuracy_EN'] = Enet.score(X_train, y_train)\n",
    "    df_drivermodel.loc[df_drivermodel.StockCode==i,'PriceBeta_EN'] = Enet.coef_[0]\n",
    "    \n",
    "    \n",
    "    Bayes = BayesianRidge()\n",
    "    Bayes.fit(X_train, y_train)\n",
    "    \n",
    "    df_drivermodel.loc[df_drivermodel.StockCode==i,'Accuracy_BR'] = Bayes.score(X_train, y_train)\n",
    "    df_drivermodel.loc[df_drivermodel.StockCode==i,'PriceBeta_BR'] = Bayes.coef_[0]\n",
    "\n",
    "    "
   ]
  },
  {
   "cell_type": "code",
   "execution_count": null,
   "metadata": {
    "scrolled": true
   },
   "outputs": [],
   "source": [
    "df_drivermodel.head()"
   ]
  },
  {
   "cell_type": "code",
   "execution_count": null,
   "metadata": {},
   "outputs": [],
   "source": [
    "df_drivermodel.to_csv(\"P:\\Priyank\\Georgia Tech MS\\Courses\\Fall 2021\\DVA CSE6242\\Project\\SalesDriver.csv\",index=False)"
   ]
  }
 ],
 "metadata": {
  "kernelspec": {
   "display_name": "Python 3",
   "language": "python",
   "name": "python3"
  },
  "language_info": {
   "codemirror_mode": {
    "name": "ipython",
    "version": 3
   },
   "file_extension": ".py",
   "mimetype": "text/x-python",
   "name": "python",
   "nbconvert_exporter": "python",
   "pygments_lexer": "ipython3",
   "version": "3.8.5"
  }
 },
 "nbformat": 4,
 "nbformat_minor": 4
}
